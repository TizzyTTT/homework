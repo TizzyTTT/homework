{
 "cells": [
  {
   "cell_type": "markdown",
   "metadata": {},
   "source": [
    "# 10.30 homework"
   ]
  },
  {
   "cell_type": "markdown",
   "metadata": {},
   "source": [
    "# 1.简要概括 k-近邻算法的原理，优缺点:\n",
    "### 原理：你的训练模型已经输入了很多样本集（假定 n），都标记好了相应的“类别”信息，当一个新的数据输入到模型里，再这n条记录中选择与新数据记录“距离”最近得k个点，这k个点大多数是哪个类别，那么新的记录就是那个类别的。\n",
    "### 优点：精度高，不受异常值影响。\n",
    "### 缺点：复杂度高，计算耗费时间多"
   ]
  },
  {
   "cell_type": "markdown",
   "metadata": {},
   "source": [
    "# 2.使用 k­近邻算法改进网站的配对效果”完整代码键入jupyter notebook，并添加详细注释。若有可能，自己可以优化该代码"
   ]
  },
  {
   "cell_type": "code",
   "execution_count": 1,
   "metadata": {},
   "outputs": [
    {
     "name": "stdout",
     "output_type": "stream",
     "text": [
      "[[ 1]\n",
      " [10]\n",
      " [66]]\n",
      "[]\n",
      "[1 2 3 4]\n",
      "[[ 1  2  3  4]\n",
      " [10 20 30 40]]\n",
      "[[ 1  2  3  4  5]\n",
      " [10 20 30 40 50]\n",
      " [66 77 88 99  0]]\n",
      "[[ 1.  2.  3.]\n",
      " [10. 20. 30.]\n",
      " [66. 77. 88.]]\n"
     ]
    }
   ],
   "source": [
    "import numpy as np\n",
    "import sys\n",
    "x = [1,2,3,4,5]\n",
    "# print(x[2:])\n",
    "xx = [\n",
    "    [1,2,3],[10,20,30],[6,7,8]\n",
    "]\n",
    "xx = np.array([\n",
    "    [1,2,3,4,5],\n",
    "    [10,20,30,40,50],\n",
    "    [66,77,88,99,0]\n",
    "])  \n",
    "print(xx[:,0:1])\n",
    "# 所有行的第0个数据\n",
    "print(xx[2:2,:])\n",
    "# 所有行的第2个数据\n",
    "print(xx[0,0:4])\n",
    "# 所有行的第 0-3（index）数值 \n",
    "\n",
    "print(xx[0:2,0:4])\n",
    "# 所有行的第 0-3（index）数值 \n",
    "\n",
    "y = np.zeros((3, 3))\n",
    "for i in range(3):\n",
    "    y[i,:] = xx[i,0:3]\n",
    "print(xx)\n",
    "print(y)\n",
    "\n",
    "# 以上 切片操作自学"
   ]
  },
  {
   "cell_type": "code",
   "execution_count": 2,
   "metadata": {},
   "outputs": [],
   "source": [
    "# 导入程序所需要的模块\n",
    "import numpy as np\n",
    "import operator"
   ]
  },
  {
   "cell_type": "markdown",
   "metadata": {},
   "source": [
    "# 定义数据集 导入数据函数\n",
    "功能就是读取文件 函数最后返回特征矩阵和输出标签 显然是监督学习类型"
   ]
  },
  {
   "cell_type": "code",
   "execution_count": 3,
   "metadata": {},
   "outputs": [],
   "source": [
    "def file2matrix(filename):\n",
    "    love_dic = {'very':3,\n",
    "                'normal':2,\n",
    "                'boring':1}\n",
    "    fr = open(filename) #打开文件\n",
    "    arrayOfLines = fr.readlines()#逐行读取\n",
    "    numberOfLines = len(arrayOfLines)#得到文件的行数\n",
    "    returnMat = np.zeros( (numberOfLines,3) )\n",
    "    classLabelVector = []\n",
    "    index = 0\n",
    "    for line in arrayOfLines:\n",
    "        line = line.strip()#删除首尾空串\n",
    "        listFromLine = line.split('\\t')#数据都是以\\t划分间隔的\n",
    "        returnMat[index,0:3] = listFromLine[0:3]#index行，填充listFromLine的012\n",
    "        if(listFromLine[-1].isdigit()):\n",
    "            classLabelVector.append(int(listFromLine[-1]))\n",
    "        else:\n",
    "            classLabelVector.append(love_dic.get(listFromLine[-1]))\n",
    "# 对于每一条数据都要  加到矩阵里面 并添加标签\n",
    "        index += 1\n",
    "    return returnMat,classLabelVector"
   ]
  },
  {
   "cell_type": "markdown",
   "metadata": {},
   "source": [
    "# 定义数据标准化函数"
   ]
  },
  {
   "cell_type": "code",
   "execution_count": 4,
   "metadata": {},
   "outputs": [],
   "source": [
    "def autoNorm(dataSet):\n",
    "    minVals = dataSet.min(0)\n",
    "    maxVals = dataSet.max(0)\n",
    "    ranges = maxVals - minVals\n",
    "    normDataSet = np.zeros(np.shape(dataSet))\n",
    "    m = dataSet.shape[0]\n",
    "#  t = sum( (x - x.)^2 )\n",
    "#  t = sqrt(t) \n",
    "    normDataSet = dataSet - np.tile(minVals, (m, 1))\n",
    "    normDataSet = normDataSet/np.tile(ranges, (m, 1))  \n",
    "    # normDataSet值被限定在[0,1]之间\n",
    "    return normDataSet, ranges, minVals"
   ]
  },
  {
   "cell_type": "code",
   "execution_count": 5,
   "metadata": {},
   "outputs": [
    {
     "name": "stdout",
     "output_type": "stream",
     "text": [
      "605\n",
      "[1 2 3 4 5] [ 1 10 66]\n"
     ]
    }
   ],
   "source": [
    "dataSet = np.array([\n",
    "    [1,2,3,4,5],\n",
    "    [10,20,30,40,50],\n",
    "    [66,77,88,99,110]\n",
    "])\n",
    "print(dataSet.sum(axis=1).sum(axis=0))\n",
    "# 先对行求和,再对列求和\n",
    "x1 = dataSet.min(0)\n",
    "x2 = dataSet.min(1)\n",
    "print(x1,x2)\n",
    "minVals = dataSet.min(0)\n",
    "maxVals = dataSet.max(0)\n",
    "ranges = maxVals - minVals\n",
    "normDataSet = np.zeros(np.shape(dataSet))\n",
    "m = dataSet.shape[0]\n",
    "tt = np.tile(minVals, (m, 1))\n",
    "normDataSet = dataSet - tt\n",
    "normDataSet = normDataSet/np.tile(ranges, (m, 1))  \n",
    "# normDataSet值被限定在[0,1]之间\n",
    "\n",
    "\n"
   ]
  },
  {
   "cell_type": "code",
   "execution_count": 6,
   "metadata": {},
   "outputs": [],
   "source": [
    "# x = np.array([\n",
    "#        [1,2,3],\n",
    "#     [0,0,0],\n",
    "#     [11,22,33]\n",
    "# ])\n",
    "# print(np.tile(x,(10,1)))\n",
    "# 第一个维度 *10 第二个维度*1\n",
    "# x = np.array([\n",
    "#     [1,2,3],\n",
    "#     [0,0,0],\n",
    "#     [11,22,33]\n",
    "# ])\n",
    "# print(np.tile(x,(10,2)))\n",
    "# 第一个维度 *10 第二个维度*2\n",
    "\n",
    "# dataSet = np.array([\n",
    "#     [10,20,30],\n",
    "#     [11,21,31],\n",
    "#     [21,22,23]\n",
    "# ])\n",
    "# np.tile(x,(3,1))-dataSet\n"
   ]
  },
  {
   "cell_type": "code",
   "execution_count": 7,
   "metadata": {},
   "outputs": [],
   "source": [
    "# inX 测试集 dataSet训练集 labels 训练标签 k 取前k个\n",
    "def classify0(inX, dataSet, labels, k):\n",
    "    dataSize = dataSet.shape[0]\n",
    "    # 使用标准差计算距离    \n",
    "    t = np.tile(inX,(dataSize,1))-dataSet\n",
    "    t = t.sum(axis=1)\n",
    "    distances = t**0.5\n",
    "    # 计算结束\n",
    "    sorterDisIndicies = distances.argsort() #返回排序索引从小到大\n",
    "    classCount = {}   # 字典存储k近邻不同label出现的次数\n",
    "    for i in range(k):\n",
    "        voteIlabel = labels[sorterDisIndicies[i]]\n",
    "        classCount[voteIlabel] = classCount.get(voteIlabel, 0) + 1    # 对应label加1，classCount中若无此key，则默认为0\n",
    "    sortedClassCount = sorted(classCount.items(), key=operator.itemgetter(1), reverse=True)    # operator.itemgetter 获取对象的哪个维度的数据\n",
    "    return sortedClassCount[0][0]    # 返回k近邻中所属类别最多的哪一类"
   ]
  },
  {
   "cell_type": "markdown",
   "metadata": {},
   "source": [
    "# 定义 k 近邻算法"
   ]
  },
  {
   "cell_type": "code",
   "execution_count": 8,
   "metadata": {},
   "outputs": [],
   "source": [
    "def datingClassTest():\n",
    "    hoRatio = 0.1     #整个数据集的10%用来测试\n",
    "    datingDataMat, datingLabels = file2matrix('datingTestSet2.txt')       #导入数据集\n",
    "#     normMat, ranges, minVals = autoNorm(datingDataMat)    # 所有特征归一化\n",
    "#     m = normMat.shape[0]    # 样本个数\n",
    "    m = datingDataMat.shape[0]\n",
    "    numTestVecs = int(m*hoRatio)    # 测试样本个数\n",
    "    errorCount = 0.0\n",
    "    for i in range(numTestVecs):\n",
    "        classifierResult = classify0(datingDataMat[i, :], datingDataMat[numTestVecs:m, :], datingLabels[numTestVecs:m], 3)\n",
    "        print(\"the classifier came back with: %d, the real answer is: %d\" % (classifierResult, datingLabels[i]))\n",
    "        if (classifierResult != datingLabels[i]): errorCount += 1.0\n",
    "    print(\"the total error rate is: %f\" % (errorCount / float(numTestVecs)))    # 打印错误率\n",
    "    print(errorCount)    # 打印错误个数"
   ]
  },
  {
   "cell_type": "code",
   "execution_count": null,
   "metadata": {},
   "outputs": [
    {
     "name": "stdout",
     "output_type": "stream",
     "text": [
      "the classifier came back with: 3, the real answer is: 3\n",
      "the classifier came back with: 2, the real answer is: 2\n",
      "the classifier came back with: 3, the real answer is: 1\n",
      "the classifier came back with: 1, the real answer is: 1\n",
      "the classifier came back with: 3, the real answer is: 1\n",
      "the classifier came back with: 1, the real answer is: 1\n",
      "the classifier came back with: 3, the real answer is: 3\n",
      "the classifier came back with: 3, the real answer is: 3\n",
      "the classifier came back with: 1, the real answer is: 1\n",
      "the classifier came back with: 1, the real answer is: 3\n",
      "the classifier came back with: 3, the real answer is: 1\n",
      "the classifier came back with: 1, the real answer is: 1\n",
      "the classifier came back with: 2, the real answer is: 2\n",
      "the classifier came back with: 3, the real answer is: 1\n",
      "the classifier came back with: 1, the real answer is: 1\n",
      "the classifier came back with: 1, the real answer is: 1\n",
      "the classifier came back with: 1, the real answer is: 1\n",
      "the classifier came back with: 1, the real answer is: 1\n",
      "the classifier came back with: 2, the real answer is: 2\n",
      "the classifier came back with: 3, the real answer is: 3\n",
      "the classifier came back with: 2, the real answer is: 2\n",
      "the classifier came back with: 3, the real answer is: 1\n",
      "the classifier came back with: 3, the real answer is: 2\n",
      "the classifier came back with: 3, the real answer is: 3\n",
      "the classifier came back with: 2, the real answer is: 2\n",
      "the classifier came back with: 3, the real answer is: 3\n",
      "the classifier came back with: 2, the real answer is: 2\n",
      "the classifier came back with: 1, the real answer is: 3\n",
      "the classifier came back with: 2, the real answer is: 2\n",
      "the classifier came back with: 3, the real answer is: 1\n",
      "the classifier came back with: 1, the real answer is: 3\n",
      "the classifier came back with: 1, the real answer is: 1\n",
      "the classifier came back with: 2, the real answer is: 3\n",
      "the classifier came back with: 1, the real answer is: 1\n",
      "the classifier came back with: 2, the real answer is: 2\n",
      "the classifier came back with: 1, the real answer is: 1\n",
      "the classifier came back with: 1, the real answer is: 1\n",
      "the classifier came back with: 2, the real answer is: 2\n",
      "the classifier came back with: 2, the real answer is: 3\n",
      "the classifier came back with: 3, the real answer is: 3\n",
      "the classifier came back with: 3, the real answer is: 1\n",
      "the classifier came back with: 2, the real answer is: 2\n",
      "the classifier came back with: 3, the real answer is: 3\n",
      "the classifier came back with: 3, the real answer is: 3\n",
      "the classifier came back with: 3, the real answer is: 3\n",
      "the classifier came back with: 1, the real answer is: 1\n",
      "the classifier came back with: 3, the real answer is: 1\n",
      "the classifier came back with: 3, the real answer is: 1\n",
      "the classifier came back with: 3, the real answer is: 1\n",
      "the classifier came back with: 2, the real answer is: 2\n",
      "the classifier came back with: 2, the real answer is: 2\n",
      "the classifier came back with: 1, the real answer is: 1\n",
      "the classifier came back with: 3, the real answer is: 3\n",
      "the classifier came back with: 2, the real answer is: 2\n",
      "the classifier came back with: 2, the real answer is: 2\n",
      "the classifier came back with: 2, the real answer is: 2\n",
      "the classifier came back with: 2, the real answer is: 2\n",
      "the classifier came back with: 2, the real answer is: 3\n",
      "the classifier came back with: 1, the real answer is: 1\n",
      "the classifier came back with: 2, the real answer is: 2\n",
      "the classifier came back with: 3, the real answer is: 1\n",
      "the classifier came back with: 2, the real answer is: 2\n",
      "the classifier came back with: 2, the real answer is: 2\n",
      "the classifier came back with: 2, the real answer is: 2\n",
      "the classifier came back with: 2, the real answer is: 2\n",
      "the classifier came back with: 2, the real answer is: 2\n",
      "the classifier came back with: 2, the real answer is: 3\n",
      "the classifier came back with: 2, the real answer is: 2\n",
      "the classifier came back with: 3, the real answer is: 3\n",
      "the classifier came back with: 1, the real answer is: 1\n",
      "the classifier came back with: 2, the real answer is: 2\n",
      "the classifier came back with: 3, the real answer is: 3\n",
      "the classifier came back with: 2, the real answer is: 2\n",
      "the classifier came back with: 2, the real answer is: 2\n",
      "the classifier came back with: 3, the real answer is: 1\n",
      "the classifier came back with: 3, the real answer is: 3\n",
      "the classifier came back with: 1, the real answer is: 1\n",
      "the classifier came back with: 1, the real answer is: 1\n",
      "the classifier came back with: 3, the real answer is: 3\n",
      "the classifier came back with: 3, the real answer is: 3\n",
      "the classifier came back with: 1, the real answer is: 1\n",
      "the classifier came back with: 2, the real answer is: 2\n",
      "the classifier came back with: 3, the real answer is: 3\n",
      "the classifier came back with: 3, the real answer is: 1\n",
      "the classifier came back with: 3, the real answer is: 3\n",
      "the classifier came back with: 1, the real answer is: 1\n",
      "the classifier came back with: 2, the real answer is: 2\n",
      "the classifier came back with: 2, the real answer is: 2\n",
      "the classifier came back with: 1, the real answer is: 1\n",
      "the classifier came back with: 1, the real answer is: 1\n",
      "the classifier came back with: 3, the real answer is: 3\n",
      "the classifier came back with: 2, the real answer is: 3\n",
      "the classifier came back with: 1, the real answer is: 1\n",
      "the classifier came back with: 2, the real answer is: 2\n",
      "the classifier came back with: 1, the real answer is: 1\n",
      "the classifier came back with: 3, the real answer is: 3\n",
      "the classifier came back with: 2, the real answer is: 3\n",
      "the classifier came back with: 2, the real answer is: 2\n",
      "the classifier came back with: 3, the real answer is: 1\n",
      "the classifier came back with: 3, the real answer is: 1\n",
      "the total error rate is: 0.250000\n",
      "25.0\n"
     ]
    },
    {
     "name": "stderr",
     "output_type": "stream",
     "text": [
      "e:\\ana\\lib\\site-packages\\ipykernel_launcher.py:7: RuntimeWarning: invalid value encountered in sqrt\n",
      "  import sys\n"
     ]
    }
   ],
   "source": [
    "datingClassTest()"
   ]
  },
  {
   "cell_type": "code",
   "execution_count": null,
   "metadata": {},
   "outputs": [],
   "source": [
    "def auto_classify_method():\n",
    "    datingDataMat, datingLabels = file2matrix('datingTestSet2.txt')       #导入数据集\n",
    "    normMat, ranges, minVals = autoNorm(datingDataMat)    # 所有特征归一化\n",
    "    m = normMat.shape[0]\n",
    "    while True:\n",
    "        Tag = 0\n",
    "        var1 = input(\"fly gosts time\")\n",
    "        var2 = input(\"playing time\")\n",
    "        var3 = input(\"dessert weight\")\n",
    "        try:\n",
    "            inputx = np.array([float(var1),float(var2),float(var3)])\n",
    "        except:\n",
    "            print(\"input again\")\n",
    "            Tag = 1\n",
    "            pass\n",
    "        \n",
    "        if Tag == 0:\n",
    "            print(inputx)\n",
    "#         classifierResult = classify0((inputx-minVals)/(ranges-minVals),normMat[0:m, :], datingLabels[0:m], 3)\n",
    "            classifierResult = classify0(inputx,datingDataMat[0:m, :], datingLabels[0:m], 3)\n",
    "            print(\"maybe ...: \",classifierResult)"
   ]
  },
  {
   "cell_type": "code",
   "execution_count": null,
   "metadata": {},
   "outputs": [
    {
     "name": "stdout",
     "output_type": "stream",
     "text": [
      "fly gosts timea\n",
      "playing timea\n",
      "dessert weighta\n",
      "input again\n",
      "fly gosts time6487\t\n",
      "playing time3.540265\t\n",
      "dessert weight0.822483\t\n"
     ]
    },
    {
     "name": "stderr",
     "output_type": "stream",
     "text": [
      "e:\\ana\\lib\\site-packages\\ipykernel_launcher.py:7: RuntimeWarning: invalid value encountered in sqrt\n",
      "  import sys\n"
     ]
    },
    {
     "name": "stdout",
     "output_type": "stream",
     "text": [
      "[6.487000e+03 3.540265e+00 8.224830e-01]\n",
      "maybe ...:  2\n",
      "fly gosts time0.822483\n",
      "playing time12.591889\t\n",
      "dessert weight0.9\t\n",
      "[ 0.822483 12.591889  0.9     ]\n",
      "maybe ...:  2\n",
      "fly gosts time0.822483\n",
      "playing time1\n",
      "dessert weight1\n",
      "[0.822483 1.       1.      ]\n",
      "maybe ...:  2\n",
      "fly gosts time1\n",
      "playing time1\n",
      "dessert weight1\n",
      "[1. 1. 1.]\n",
      "maybe ...:  2\n",
      "fly gosts time33553\t\n",
      "playing time12.591889\n",
      "dessert weight0.9\n",
      "[3.3553000e+04 1.2591889e+01 9.0000000e-01]\n",
      "maybe ...:  3\n"
     ]
    }
   ],
   "source": [
    "auto_classify_method()"
   ]
  },
  {
   "cell_type": "code",
   "execution_count": null,
   "metadata": {},
   "outputs": [],
   "source": []
  }
 ],
 "metadata": {
  "kernelspec": {
   "display_name": "Python 3",
   "language": "python",
   "name": "python3"
  },
  "language_info": {
   "codemirror_mode": {
    "name": "ipython",
    "version": 3
   },
   "file_extension": ".py",
   "mimetype": "text/x-python",
   "name": "python",
   "nbconvert_exporter": "python",
   "pygments_lexer": "ipython3",
   "version": "3.6.4"
  }
 },
 "nbformat": 4,
 "nbformat_minor": 2
}
