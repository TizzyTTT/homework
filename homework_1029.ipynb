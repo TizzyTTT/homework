{
 "cells": [
  {
   "cell_type": "code",
   "execution_count": 23,
   "metadata": {},
   "outputs": [
    {
     "name": "stdout",
     "output_type": "stream",
     "text": [
      "[[ 0  1  2  3  4]\n",
      " [ 5  6  7  8  9]\n",
      " [10 11 12 13 14]]\n",
      "(3, 5)\n",
      "2\n",
      "int32\n",
      "4\n",
      "15\n"
     ]
    }
   ],
   "source": [
    "import numpy as np\n",
    "\n",
    "a = np.arange(15).reshape(3, 5)\n",
    "print(a)\n",
    "print(a.shape )  # shape ,是数组的维数，这是由每个维度的大小组成的一个元组，对于一个 n 行 m 列的矩阵。shape 是 (n, m)\n",
    "print(a.ndim)  # ndim :数组的 axes （维数）数值大小\n",
    "print(a.dtype.name)  # 在数组中描述元素类型的一个对象\n",
    "print(a.itemsize)  # itemsize:数组中每个元素所占字节数。例如，一个 float64 的 itemsize 是 8 ( = 64/8bit)\n",
    "print(a.size) #size:数组元素的个数总和，这等于 shape 元组数字的乘积。"
   ]
  },
  {
   "cell_type": "code",
   "execution_count": 26,
   "metadata": {},
   "outputs": [
    {
     "name": "stdout",
     "output_type": "stream",
     "text": [
      "对每个数进行exp运算 [4.85165195e+08 1.06864746e+13 2.35385267e+17 5.18470553e+21]\n",
      "切片运算 [30 40 50]  index begin with 0\n",
      "迭代运算：\n",
      "40\n",
      "60\n",
      "80\n",
      "100\n"
     ]
    }
   ],
   "source": [
    "'''基本操作'''\n",
    "B = np.array( [20,30,40,50] )\n",
    "bwxp=np.exp(B)\n",
    "print(\"对每个数进行exp运算\",bwxp)\n",
    "\n",
    "'''索引迭代'''\n",
    "bsort=B[1:]\n",
    "print(\"切片运算\",bsort,\" index begin with 0\")\n",
    "print(\"迭代运算：\")\n",
    "for  i in B:\n",
    "    print(i*2)"
   ]
  },
  {
   "cell_type": "code",
   "execution_count": 29,
   "metadata": {},
   "outputs": [
    {
     "name": "stdout",
     "output_type": "stream",
     "text": [
      "加法运算： [[ 6.  8.]\n",
      " [10. 12.]]\n",
      "减法运算： [[-4. -4.]\n",
      " [-4. -4.]]\n",
      "乘法运算: [[ 5. 12.]\n",
      " [21. 32.]]\n",
      "除法运算： [[0.2        0.33333333]\n",
      " [0.42857143 0.5       ]]\n",
      "矩阵运算: [[19. 22.]\n",
      " [43. 50.]]\n",
      "广播： [[ 2  2  4]\n",
      " [ 5  5  7]\n",
      " [ 8  8 10]\n",
      " [11 11 13]]\n"
     ]
    }
   ],
   "source": [
    "'''常用计算'''\n",
    "x = np.array([[1,2],[3,4]], dtype=np.float64)\n",
    "y = np.array([[5,6],[7,8]], dtype=np.float64)\n",
    "print(\"加法运算：\",x+y)\n",
    "print(\"减法运算：\",x-y)\n",
    "print(\"乘法运算:\",x*y)\n",
    "print(\"除法运算：\",x/y)\n",
    "print(\"矩阵运算:\",x.dot(y))\n",
    "\n",
    "# 广播机制，它让Numpy可以让不同大小的矩阵在一起进行数学计算\n",
    "x = np.array([[1,2,3], [4,5,6], [7,8,9], [10, 11, 12]])\n",
    "v = np.array([1, 0, 1])\n",
    "y = x + v\n",
    "print(\"广播：\",y)"
   ]
  },
  {
   "cell_type": "markdown",
   "metadata": {},
   "source": [
    "# numpy 科学计算库"
   ]
  },
  {
   "cell_type": "code",
   "execution_count": 4,
   "metadata": {},
   "outputs": [],
   "source": [
    "import numpy as np"
   ]
  },
  {
   "cell_type": "markdown",
   "metadata": {},
   "source": [
    "### 生成随机数（多维）"
   ]
  },
  {
   "cell_type": "code",
   "execution_count": 5,
   "metadata": {},
   "outputs": [
    {
     "name": "stdout",
     "output_type": "stream",
     "text": [
      "[[0.17966978 0.5351337  0.71357997 0.11175625 0.40274118 0.86974618\n",
      "  0.32540946 0.79113087 0.99740684 0.37357823]\n",
      " [0.70748412 0.29828078 0.75328624 0.20365022 0.05222871 0.74525128\n",
      "  0.9332395  0.91580011 0.19416328 0.02127549]\n",
      " [0.9660853  0.07085503 0.02009929 0.06222697 0.26786327 0.83663796\n",
      "  0.32635953 0.94894904 0.21217595 0.29306127]\n",
      " [0.04850969 0.0181654  0.99618185 0.17051104 0.89903496 0.34629753\n",
      "  0.42945607 0.10935203 0.36773    0.5769301 ]]\n",
      "2   (4, 10)   float64\n"
     ]
    }
   ],
   "source": [
    "ran = np.random.rand(4,10)\n",
    "print(ran)\n",
    "print(ran.ndim,\" \",ran.shape,\" \",ran.dtype)"
   ]
  },
  {
   "cell_type": "markdown",
   "metadata": {},
   "source": [
    "# 数组运算"
   ]
  },
  {
   "cell_type": "code",
   "execution_count": 6,
   "metadata": {},
   "outputs": [
    {
     "name": "stdout",
     "output_type": "stream",
     "text": [
      "[[3.50550328e-08 1.92585258e-03 3.42315455e-02 3.03891370e-10\n",
      "  1.12269148e-04 2.47699588e-01 1.33137895e-05 9.60468877e-02\n",
      "  9.74368890e-01 5.29438613e-05]\n",
      " [3.14171610e-02 5.57510036e-06 5.88302023e-02 1.22701198e-07\n",
      "  1.51040478e-13 5.28478509e-02 5.01107749e-01 4.14960631e-01\n",
      "  7.61501749e-08 1.90018689e-17]\n",
      " [7.08198078e-01 3.18938385e-12 1.07598690e-17 8.70535790e-13\n",
      "  1.90165496e-06 1.68025687e-01 1.37076479e-05 5.92146118e-01\n",
      "  1.84910498e-07 4.67287640e-06]\n",
      " [7.21580154e-14 3.91246561e-18 9.62467895e-01 2.07742370e-08\n",
      "  3.44957666e-01 2.48024110e-05 2.13396588e-04 2.44494098e-10\n",
      "  4.52158364e-05 4.08537556e-03]]\n"
     ]
    }
   ],
   "source": [
    "print(ran**10) #10次方"
   ]
  },
  {
   "cell_type": "code",
   "execution_count": 7,
   "metadata": {},
   "outputs": [
    {
     "name": "stdout",
     "output_type": "stream",
     "text": [
      "[ 1  3  5  7  9 11 13 15 17 19]\n",
      "[  1   9  25  49  81 121 169 225 289 361]\n"
     ]
    }
   ],
   "source": [
    "x = np.arange(1,20,2)\n",
    "print(x)\n",
    "print(x**2) # 2次方"
   ]
  },
  {
   "cell_type": "code",
   "execution_count": 8,
   "metadata": {},
   "outputs": [
    {
     "name": "stdout",
     "output_type": "stream",
     "text": [
      "[0.17966978 0.70748412 0.9660853  0.04850969]\n",
      "[0.5351337]\n"
     ]
    }
   ],
   "source": [
    "x1 = ran[:,0]\n",
    "x2 = ran[:1,1]\n",
    "print(x1)\n",
    "print(x2)"
   ]
  },
  {
   "cell_type": "markdown",
   "metadata": {},
   "source": [
    "# pandas 可爱的熊猫"
   ]
  },
  {
   "cell_type": "code",
   "execution_count": 53,
   "metadata": {},
   "outputs": [],
   "source": [
    "import pandas as pd"
   ]
  },
  {
   "cell_type": "markdown",
   "metadata": {},
   "source": [
    "### 生成DataFrame"
   ]
  },
  {
   "cell_type": "code",
   "execution_count": 60,
   "metadata": {},
   "outputs": [
    {
     "data": {
      "text/html": [
       "<div>\n",
       "<style scoped>\n",
       "    .dataframe tbody tr th:only-of-type {\n",
       "        vertical-align: middle;\n",
       "    }\n",
       "\n",
       "    .dataframe tbody tr th {\n",
       "        vertical-align: top;\n",
       "    }\n",
       "\n",
       "    .dataframe thead th {\n",
       "        text-align: right;\n",
       "    }\n",
       "</style>\n",
       "<table border=\"1\" class=\"dataframe\">\n",
       "  <thead>\n",
       "    <tr style=\"text-align: right;\">\n",
       "      <th></th>\n",
       "      <th>power</th>\n",
       "      <th>fit</th>\n",
       "      <th>price</th>\n",
       "      <th>level</th>\n",
       "    </tr>\n",
       "  </thead>\n",
       "  <tbody>\n",
       "    <tr>\n",
       "      <th>1</th>\n",
       "      <td>0.364081</td>\n",
       "      <td>0.937171</td>\n",
       "      <td>0.707017</td>\n",
       "      <td>0.347523</td>\n",
       "    </tr>\n",
       "    <tr>\n",
       "      <th>2</th>\n",
       "      <td>0.100434</td>\n",
       "      <td>0.419107</td>\n",
       "      <td>0.047337</td>\n",
       "      <td>0.307225</td>\n",
       "    </tr>\n",
       "    <tr>\n",
       "      <th>3</th>\n",
       "      <td>0.907817</td>\n",
       "      <td>0.928427</td>\n",
       "      <td>0.114088</td>\n",
       "      <td>0.319712</td>\n",
       "    </tr>\n",
       "    <tr>\n",
       "      <th>4</th>\n",
       "      <td>0.591800</td>\n",
       "      <td>0.111935</td>\n",
       "      <td>0.638961</td>\n",
       "      <td>0.565546</td>\n",
       "    </tr>\n",
       "  </tbody>\n",
       "</table>\n",
       "</div>"
      ],
      "text/plain": [
       "      power       fit     price     level\n",
       "1  0.364081  0.937171  0.707017  0.347523\n",
       "2  0.100434  0.419107  0.047337  0.307225\n",
       "3  0.907817  0.928427  0.114088  0.319712\n",
       "4  0.591800  0.111935  0.638961  0.565546"
      ]
     },
     "execution_count": 60,
     "metadata": {},
     "output_type": "execute_result"
    }
   ],
   "source": [
    "columns = [\"power\",\"fit\",\"price\",\"level\"]\n",
    "df = pd.DataFrame(ran, index=[i for i in range(1,5,1)], columns=columns)\n",
    "df  # 列名自定义 索引从1开始"
   ]
  },
  {
   "cell_type": "code",
   "execution_count": 66,
   "metadata": {},
   "outputs": [
    {
     "data": {
      "text/plain": [
       "1.0"
      ]
     },
     "execution_count": 66,
     "metadata": {},
     "output_type": "execute_result"
    }
   ],
   "source": [
    "df.iloc[3,2].round()\n",
    "# choose value 2 index 1 column  四舍五入"
   ]
  },
  {
   "cell_type": "code",
   "execution_count": 70,
   "metadata": {},
   "outputs": [
    {
     "name": "stdout",
     "output_type": "stream",
     "text": [
      "      power       fit     price     level\n",
      "1  0.132555  0.878289  0.499873  0.120772\n",
      "2  0.010087  0.175651  0.002241  0.094387\n",
      "3  0.824132  0.861977  0.013016  0.102216\n",
      "4  0.350227  0.012529  0.408271  0.319842 \n",
      "       power       fit     price     level\n",
      "1  3.621888  4.550894  4.272515  3.576615\n",
      "2  2.401836  3.759122  1.746368  3.457026\n",
      "3  4.519413  4.541620  2.518405  3.495636\n",
      "4  4.097340  2.500901  4.172787  4.052734\n"
     ]
    }
   ],
   "source": [
    "df1 = df.apply(lambda x :x**2)\n",
    "df2 = df.apply(lambda x :np.log1p(np.abs(x)*100))\n",
    "print(df1,'\\n',df2)"
   ]
  },
  {
   "cell_type": "code",
   "execution_count": 75,
   "metadata": {},
   "outputs": [
    {
     "name": "stdout",
     "output_type": "stream",
     "text": [
      "          power       fit     price     level\n",
      "count  4.000000  4.000000  4.000000  4.000000\n",
      "mean   3.660119  3.838134  3.177519  3.645503\n",
      "std    0.915476  0.965635  1.247958  0.276023\n",
      "min    2.401836  2.500901  1.746368  3.457026\n",
      "25%    3.316875  3.444567  2.325396  3.485983\n",
      "50%    3.859614  4.150371  3.345596  3.536126\n",
      "75%    4.202858  4.543938  4.197719  3.695645\n",
      "max    4.519413  4.550894  4.272515  4.052734\n",
      "---------------- \n",
      " detailed information about average min & max value\n",
      "<class 'pandas.core.frame.DataFrame'>\n",
      "Int64Index: 4 entries, 1 to 4\n",
      "Data columns (total 4 columns):\n",
      "power    4 non-null float64\n",
      "fit      4 non-null float64\n",
      "price    4 non-null float64\n",
      "level    4 non-null float64\n",
      "dtypes: float64(4)\n",
      "memory usage: 320.0 bytes\n",
      "None\n",
      "---------------- \n",
      " specific type\n"
     ]
    },
    {
     "data": {
      "text/html": [
       "<div>\n",
       "<style scoped>\n",
       "    .dataframe tbody tr th:only-of-type {\n",
       "        vertical-align: middle;\n",
       "    }\n",
       "\n",
       "    .dataframe tbody tr th {\n",
       "        vertical-align: top;\n",
       "    }\n",
       "\n",
       "    .dataframe thead th {\n",
       "        text-align: right;\n",
       "    }\n",
       "</style>\n",
       "<table border=\"1\" class=\"dataframe\">\n",
       "  <thead>\n",
       "    <tr style=\"text-align: right;\">\n",
       "      <th></th>\n",
       "      <th>power</th>\n",
       "      <th>fit</th>\n",
       "      <th>price</th>\n",
       "      <th>level</th>\n",
       "    </tr>\n",
       "  </thead>\n",
       "  <tbody>\n",
       "    <tr>\n",
       "      <th>1</th>\n",
       "      <td>3.621888</td>\n",
       "      <td>4.550894</td>\n",
       "      <td>4.272515</td>\n",
       "      <td>3.576615</td>\n",
       "    </tr>\n",
       "    <tr>\n",
       "      <th>2</th>\n",
       "      <td>2.401836</td>\n",
       "      <td>3.759122</td>\n",
       "      <td>1.746368</td>\n",
       "      <td>3.457026</td>\n",
       "    </tr>\n",
       "    <tr>\n",
       "      <th>3</th>\n",
       "      <td>4.519413</td>\n",
       "      <td>4.541620</td>\n",
       "      <td>2.518405</td>\n",
       "      <td>3.495636</td>\n",
       "    </tr>\n",
       "    <tr>\n",
       "      <th>4</th>\n",
       "      <td>4.097340</td>\n",
       "      <td>2.500901</td>\n",
       "      <td>4.172787</td>\n",
       "      <td>4.052734</td>\n",
       "    </tr>\n",
       "  </tbody>\n",
       "</table>\n",
       "</div>"
      ],
      "text/plain": [
       "      power       fit     price     level\n",
       "1  3.621888  4.550894  4.272515  3.576615\n",
       "2  2.401836  3.759122  1.746368  3.457026\n",
       "3  4.519413  4.541620  2.518405  3.495636\n",
       "4  4.097340  2.500901  4.172787  4.052734"
      ]
     },
     "execution_count": 75,
     "metadata": {},
     "output_type": "execute_result"
    }
   ],
   "source": [
    "print(df2.describe())\n",
    "print('---------------- \\n detailed information about average min & max value')\n",
    "print(df2.info())\n",
    "print('---------------- \\n specific type')\n",
    "df2.head(5)"
   ]
  },
  {
   "cell_type": "markdown",
   "metadata": {},
   "source": [
    "# matplotlib"
   ]
  },
  {
   "cell_type": "code",
   "execution_count": 77,
   "metadata": {},
   "outputs": [],
   "source": [
    "import matplotlib.pyplot as plt"
   ]
  },
  {
   "cell_type": "code",
   "execution_count": 84,
   "metadata": {},
   "outputs": [
    {
     "data": {
      "text/plain": [
       "[<matplotlib.lines.Line2D at 0x109516c4a20>]"
      ]
     },
     "execution_count": 84,
     "metadata": {},
     "output_type": "execute_result"
    },
    {
     "data": {
      "image/png": "[encoded data removed]",
      "text/plain": [
       "<Figure size 432x288 with 2 Axes>"
      ]
     },
     "metadata": {
      "needs_background": "light"
     },
     "output_type": "display_data"
    }
   ],
   "source": [
    "plt.subplot(211)\n",
    "plt.hist(df2['power'])\n",
    "# 分布图\n",
    "plt.subplot(212)\n",
    "# 线图\n",
    "x = np.arange(10)\n",
    "y = np.sin(x)\n",
    "plt.plot(x,y)"
   ]
  },
  {
   "cell_type": "code",
   "execution_count": null,
   "metadata": {},
   "outputs": [],
   "source": []
  }
 ],
 "metadata": {
  "kernelspec": {
   "display_name": "Python 3",
   "language": "python",
   "name": "python3"
  },
  "language_info": {
   "codemirror_mode": {
    "name": "ipython",
    "version": 3
   },
   "file_extension": ".py",
   "mimetype": "text/x-python",
   "name": "python",
   "nbconvert_exporter": "python",
   "pygments_lexer": "ipython3",
   "version": "3.6.4"
  }
 },
 "nbformat": 4,
 "nbformat_minor": 2
}
